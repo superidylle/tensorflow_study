{
 "cells": [
  {
   "cell_type": "code",
   "execution_count": 1,
   "metadata": {},
   "outputs": [],
   "source": [
    "import  tensorflow as tf\n",
    "from    tensorflow import keras\n",
    "from    tensorflow.keras import datasets\n",
    "import  os\n",
    "\n",
    "os.environ['TF_CPP_MIN_LOG_LEVEL'] = '2'"
   ]
  },
  {
   "cell_type": "code",
   "execution_count": 2,
   "metadata": {},
   "outputs": [],
   "source": [
    "# x: [60k, 28, 28]\n",
    "# y: [60k]\n",
    "\n",
    "(x, y),_ = datasets.mnist.load_data()"
   ]
  },
  {
   "cell_type": "code",
   "execution_count": 3,
   "metadata": {},
   "outputs": [],
   "source": [
    "# 把 x的数值范围从 [0 ~ 255] 改为 [0 ~ 1]\n",
    "x = tf.convert_to_tensor(x, dtype=tf.float32) / 255.\n",
    "y = tf.convert_to_tensor(y, dtype=tf.int32)"
   ]
  },
  {
   "cell_type": "code",
   "execution_count": 4,
   "metadata": {},
   "outputs": [
    {
     "name": "stdout",
     "output_type": "stream",
     "text": [
      "(60000, 28, 28) (60000,) <dtype: 'float32'> <dtype: 'int32'>\n"
     ]
    }
   ],
   "source": [
    "print(x.shape, y.shape, x.dtype, y.dtype)"
   ]
  },
  {
   "cell_type": "code",
   "execution_count": 5,
   "metadata": {},
   "outputs": [
    {
     "name": "stdout",
     "output_type": "stream",
     "text": [
      "tf.Tensor(0.0, shape=(), dtype=float32) tf.Tensor(1.0, shape=(), dtype=float32)\n"
     ]
    }
   ],
   "source": [
    "#  数据范围， 看 x y 的最小值和最大值\n",
    "print(tf.reduce_min(x), tf.reduce_max(x))"
   ]
  },
  {
   "cell_type": "code",
   "execution_count": 6,
   "metadata": {},
   "outputs": [
    {
     "name": "stdout",
     "output_type": "stream",
     "text": [
      "tf.Tensor(0, shape=(), dtype=int32) tf.Tensor(9, shape=(), dtype=int32)\n"
     ]
    }
   ],
   "source": [
    "print(tf.reduce_min(y), tf.reduce_max(y))"
   ]
  },
  {
   "cell_type": "code",
   "execution_count": 7,
   "metadata": {},
   "outputs": [
    {
     "name": "stdout",
     "output_type": "stream",
     "text": [
      "batch: (128, 28, 28) (128,)\n"
     ]
    }
   ],
   "source": [
    "# 每次取128 张照片\n",
    "train_db = tf.data.Dataset.from_tensor_slices((x, y)).batch(128)\n",
    "train_iter = iter(train_db)\n",
    "sample = next(train_iter)\n",
    "print('batch:', sample[0].shape, sample[1].shape )"
   ]
  },
  {
   "cell_type": "code",
   "execution_count": 12,
   "metadata": {},
   "outputs": [],
   "source": [
    "# [b, 784] => [b, 256] => [b, 128] => [b, 10]\n",
    "# [dim_in, dim_out], [dim_out]\n",
    "w1 = tf.Variable(tf.random.truncated_normal([784, 256], stddev=0.1))\n",
    "b1 = tf.Variable(tf.zeros([256]))\n",
    "w2 = tf.Variable(tf.random.truncated_normal([256, 128], stddev=0.1))\n",
    "b2 = tf.Variable(tf.zeros([128]))\n",
    "w3 = tf.Variable(tf.random.truncated_normal([128, 10], stddev=0.1))\n",
    "b3 = tf.Variable(tf.zeros([10]))"
   ]
  },
  {
   "cell_type": "code",
   "execution_count": 13,
   "metadata": {},
   "outputs": [],
   "source": [
    "lr = 1e-3"
   ]
  },
  {
   "cell_type": "code",
   "execution_count": 15,
   "metadata": {},
   "outputs": [
    {
     "name": "stdout",
     "output_type": "stream",
     "text": [
      "0 0 loss 0.15757174789905548\n",
      "0 100 loss 0.15880440175533295\n",
      "0 200 loss 0.16019687056541443\n",
      "0 300 loss 0.14574292302131653\n",
      "0 400 loss 0.14883914589881897\n",
      "1 0 loss 0.13481266796588898\n",
      "1 100 loss 0.1387593150138855\n",
      "1 200 loss 0.13869956135749817\n",
      "1 300 loss 0.12776817381381989\n",
      "1 400 loss 0.1326252669095993\n",
      "2 0 loss 0.11999980360269547\n",
      "2 100 loss 0.12534889578819275\n",
      "2 200 loss 0.12428710609674454\n",
      "2 300 loss 0.1154339462518692\n",
      "2 400 loss 0.1214115172624588\n",
      "3 0 loss 0.10942494869232178\n",
      "3 100 loss 0.11567869037389755\n",
      "3 200 loss 0.11386444419622421\n",
      "3 300 loss 0.10653138160705566\n",
      "3 400 loss 0.11323828995227814\n",
      "4 0 loss 0.10151724517345428\n",
      "4 100 loss 0.10835667699575424\n",
      "4 200 loss 0.10601433366537094\n",
      "4 300 loss 0.09979565441608429\n",
      "4 400 loss 0.10690031200647354\n",
      "5 0 loss 0.09528177976608276\n",
      "5 100 loss 0.10252662003040314\n",
      "5 200 loss 0.09984661638736725\n",
      "5 300 loss 0.09449604898691177\n",
      "5 400 loss 0.10174831002950668\n",
      "6 0 loss 0.09021513909101486\n",
      "6 100 loss 0.0977613776922226\n",
      "6 200 loss 0.09487023204565048\n",
      "6 300 loss 0.09019385278224945\n",
      "6 400 loss 0.09749205410480499\n",
      "7 0 loss 0.0860157161951065\n",
      "7 100 loss 0.09375274926424026\n",
      "7 200 loss 0.09075678884983063\n",
      "7 300 loss 0.08662361651659012\n",
      "7 400 loss 0.09394137561321259\n",
      "8 0 loss 0.08245984464883804\n",
      "8 100 loss 0.09033200144767761\n",
      "8 200 loss 0.08729318529367447\n",
      "8 300 loss 0.08360905945301056\n",
      "8 400 loss 0.09084552526473999\n",
      "9 0 loss 0.07938090711832047\n",
      "9 100 loss 0.0873638466000557\n",
      "9 200 loss 0.0843169093132019\n",
      "9 300 loss 0.08101557195186615\n",
      "9 400 loss 0.08813990652561188\n"
     ]
    }
   ],
   "source": [
    "# h1 = x @ W1 + b1\n",
    "\n",
    "for epoch in range(10): # iterate db for 10\n",
    "    for step, (x, y) in enumerate(train_db): # for every batch\n",
    "        # x: [128, 28, 28]\n",
    "        # y: [128]\n",
    "\n",
    "        # x: [b, 28, 28] => [b, 28* 28]\n",
    "        x = tf.reshape(x, [-1, 28* 28])\n",
    "\n",
    "        with tf.GradientTape() as tape: # tf.Variable\n",
    "\n",
    "            # h1 = x @ w1 + b1\n",
    "            # [b, 784] @ [784, 256] + [256] => [b, 256] + [256]\n",
    "            h1 = x@w1 + tf.broadcast_to(b1, [x.shape[0], 256])\n",
    "            h1 = tf.nn.relu(h1)\n",
    "            # [b, 256] => [b, 128]\n",
    "            h2 = h1@w2 + b2\n",
    "            h2 = tf.nn.relu(h2)\n",
    "            # [b, 128] => [b, 10]\n",
    "            out = h2@w3 + b3\n",
    "\n",
    "            # compute loss\n",
    "            # out: [b, 10]\n",
    "            # y: [b]\n",
    "            y_onehot = tf.one_hot(y, depth=10)\n",
    "\n",
    "            # mse = mean(sum((y-out)^2))\n",
    "            # [b, 10]\n",
    "            loss = tf.square(y_onehot - out)\n",
    "            # mean: scalar\n",
    "            loss = tf.reduce_mean(loss)\n",
    "\n",
    "        # compute gradients\n",
    "        grads = tape.gradient(loss, [w1, b1, w2, b2, w3, b3])\n",
    "\n",
    "        # print(grads)\n",
    "\n",
    "        # w1 = w1 - lr * w1_grad\n",
    "        w1.assign_sub(lr * grads[0])\n",
    "        b1.assign_sub(lr * grads[1])\n",
    "        w2.assign_sub(lr * grads[2])\n",
    "        b2.assign_sub(lr * grads[3])\n",
    "        w3.assign_sub(lr * grads[4])\n",
    "        b3.assign_sub(lr * grads[5])\n",
    "\n",
    "        if step % 100 == 0:\n",
    "            print(epoch, step, 'loss', float(loss))\n"
   ]
  },
  {
   "cell_type": "code",
   "execution_count": null,
   "metadata": {},
   "outputs": [],
   "source": []
  }
 ],
 "metadata": {
  "kernelspec": {
   "display_name": "Python 3",
   "language": "python",
   "name": "python3"
  },
  "language_info": {
   "codemirror_mode": {
    "name": "ipython",
    "version": 3
   },
   "file_extension": ".py",
   "mimetype": "text/x-python",
   "name": "python",
   "nbconvert_exporter": "python",
   "pygments_lexer": "ipython3",
   "version": "3.7.3"
  }
 },
 "nbformat": 4,
 "nbformat_minor": 2
}
