{
 "cells": [
  {
   "cell_type": "code",
   "execution_count": 1,
   "metadata": {},
   "outputs": [],
   "source": [
    "import tensorflow as tf"
   ]
  },
  {
   "cell_type": "markdown",
   "metadata": {},
   "source": [
    "### sort, argsort"
   ]
  },
  {
   "cell_type": "code",
   "execution_count": 2,
   "metadata": {},
   "outputs": [
    {
     "name": "stdout",
     "output_type": "stream",
     "text": [
      "tf.Tensor([1 0 2 3], shape=(4,), dtype=int32)\n"
     ]
    }
   ],
   "source": [
    "a = tf.random.shuffle(tf.range(4))\n",
    "print(a)"
   ]
  },
  {
   "cell_type": "code",
   "execution_count": 3,
   "metadata": {},
   "outputs": [
    {
     "data": {
      "text/plain": [
       "<tf.Tensor: id=14, shape=(4,), dtype=int32, numpy=array([3, 2, 1, 0])>"
      ]
     },
     "execution_count": 3,
     "metadata": {},
     "output_type": "execute_result"
    }
   ],
   "source": [
    "tf.sort(a, direction='DESCENDING')"
   ]
  },
  {
   "cell_type": "code",
   "execution_count": 4,
   "metadata": {},
   "outputs": [
    {
     "data": {
      "text/plain": [
       "<tf.Tensor: id=26, shape=(4,), dtype=int32, numpy=array([3, 2, 0, 1])>"
      ]
     },
     "execution_count": 4,
     "metadata": {},
     "output_type": "execute_result"
    }
   ],
   "source": [
    "tf.argsort(a, direction='DESCENDING')"
   ]
  },
  {
   "cell_type": "code",
   "execution_count": 5,
   "metadata": {},
   "outputs": [],
   "source": [
    "idx = tf.argsort(a, direction='DESCENDING')"
   ]
  },
  {
   "cell_type": "code",
   "execution_count": 6,
   "metadata": {},
   "outputs": [
    {
     "data": {
      "text/plain": [
       "<tf.Tensor: id=39, shape=(4,), dtype=int32, numpy=array([3, 2, 1, 0])>"
      ]
     },
     "execution_count": 6,
     "metadata": {},
     "output_type": "execute_result"
    }
   ],
   "source": [
    "tf.gather(a, idx)"
   ]
  },
  {
   "cell_type": "code",
   "execution_count": 7,
   "metadata": {},
   "outputs": [
    {
     "name": "stdout",
     "output_type": "stream",
     "text": [
      "tf.Tensor(\n",
      "[[4 3 9]\n",
      " [8 1 3]\n",
      " [3 0 0]], shape=(3, 3), dtype=int32)\n"
     ]
    }
   ],
   "source": [
    "a = tf.random.uniform([3, 3], maxval=10, dtype=tf.int32)\n",
    "print(a)"
   ]
  },
  {
   "cell_type": "code",
   "execution_count": 8,
   "metadata": {},
   "outputs": [
    {
     "data": {
      "text/plain": [
       "<tf.Tensor: id=57, shape=(3, 3), dtype=int32, numpy=\n",
       "array([[3, 4, 9],\n",
       "       [1, 3, 8],\n",
       "       [0, 0, 3]])>"
      ]
     },
     "execution_count": 8,
     "metadata": {},
     "output_type": "execute_result"
    }
   ],
   "source": [
    "tf.sort(a)"
   ]
  },
  {
   "cell_type": "code",
   "execution_count": 9,
   "metadata": {},
   "outputs": [
    {
     "data": {
      "text/plain": [
       "<tf.Tensor: id=67, shape=(3, 3), dtype=int32, numpy=\n",
       "array([[9, 4, 3],\n",
       "       [8, 3, 1],\n",
       "       [3, 0, 0]])>"
      ]
     },
     "execution_count": 9,
     "metadata": {},
     "output_type": "execute_result"
    }
   ],
   "source": [
    "tf.sort(a, direction='DESCENDING')"
   ]
  },
  {
   "cell_type": "code",
   "execution_count": 10,
   "metadata": {},
   "outputs": [
    {
     "name": "stdout",
     "output_type": "stream",
     "text": [
      "tf.Tensor(\n",
      "[[1 0 2]\n",
      " [1 2 0]\n",
      " [1 2 0]], shape=(3, 3), dtype=int32)\n"
     ]
    }
   ],
   "source": [
    "idx = tf.argsort(a)\n",
    "print(idx)"
   ]
  },
  {
   "cell_type": "markdown",
   "metadata": {},
   "source": [
    "### Top_k"
   ]
  },
  {
   "cell_type": "code",
   "execution_count": 11,
   "metadata": {},
   "outputs": [
    {
     "data": {
      "text/plain": [
       "<tf.Tensor: id=44, shape=(3, 3), dtype=int32, numpy=\n",
       "array([[4, 3, 9],\n",
       "       [8, 1, 3],\n",
       "       [3, 0, 0]])>"
      ]
     },
     "execution_count": 11,
     "metadata": {},
     "output_type": "execute_result"
    }
   ],
   "source": [
    "a"
   ]
  },
  {
   "cell_type": "code",
   "execution_count": 12,
   "metadata": {},
   "outputs": [
    {
     "name": "stdout",
     "output_type": "stream",
     "text": [
      "TopKV2(values=<tf.Tensor: id=84, shape=(3, 2), dtype=int32, numpy=\n",
      "array([[9, 4],\n",
      "       [8, 3],\n",
      "       [3, 0]])>, indices=<tf.Tensor: id=85, shape=(3, 2), dtype=int32, numpy=\n",
      "array([[2, 0],\n",
      "       [0, 2],\n",
      "       [0, 1]])>)\n"
     ]
    }
   ],
   "source": [
    "res=tf.math.top_k(a, 2)\n",
    "print(res)"
   ]
  },
  {
   "cell_type": "code",
   "execution_count": 13,
   "metadata": {},
   "outputs": [
    {
     "data": {
      "text/plain": [
       "<tf.Tensor: id=84, shape=(3, 2), dtype=int32, numpy=\n",
       "array([[9, 4],\n",
       "       [8, 3],\n",
       "       [3, 0]])>"
      ]
     },
     "execution_count": 13,
     "metadata": {},
     "output_type": "execute_result"
    }
   ],
   "source": [
    "res.values"
   ]
  },
  {
   "cell_type": "code",
   "execution_count": 14,
   "metadata": {},
   "outputs": [
    {
     "data": {
      "text/plain": [
       "<tf.Tensor: id=85, shape=(3, 2), dtype=int32, numpy=\n",
       "array([[2, 0],\n",
       "       [0, 2],\n",
       "       [0, 1]])>"
      ]
     },
     "execution_count": 14,
     "metadata": {},
     "output_type": "execute_result"
    }
   ],
   "source": [
    "res.indices"
   ]
  },
  {
   "cell_type": "code",
   "execution_count": 16,
   "metadata": {},
   "outputs": [],
   "source": [
    "prob = tf.constant([[0.1, 0.2, 0.7], [0.2, 0.7, 0.1]])"
   ]
  },
  {
   "cell_type": "code",
   "execution_count": 17,
   "metadata": {},
   "outputs": [],
   "source": [
    "target = tf.constant([2, 0])"
   ]
  },
  {
   "cell_type": "code",
   "execution_count": 19,
   "metadata": {},
   "outputs": [
    {
     "name": "stdout",
     "output_type": "stream",
     "text": [
      "tf.Tensor(\n",
      "[[2 1 0]\n",
      " [1 0 2]], shape=(2, 3), dtype=int32)\n"
     ]
    }
   ],
   "source": [
    "k_b = tf.math.top_k(prob, 3).indices\n",
    "print(k_b)"
   ]
  },
  {
   "cell_type": "code",
   "execution_count": 20,
   "metadata": {},
   "outputs": [
    {
     "name": "stdout",
     "output_type": "stream",
     "text": [
      "tf.Tensor(\n",
      "[[2 1]\n",
      " [1 0]\n",
      " [0 2]], shape=(3, 2), dtype=int32)\n"
     ]
    }
   ],
   "source": [
    "k_b = tf.transpose(k_b, [1, 0])\n",
    "print(k_b)"
   ]
  },
  {
   "cell_type": "code",
   "execution_count": 21,
   "metadata": {},
   "outputs": [
    {
     "name": "stdout",
     "output_type": "stream",
     "text": [
      "tf.Tensor(\n",
      "[[2 0]\n",
      " [2 0]\n",
      " [2 0]], shape=(3, 2), dtype=int32)\n"
     ]
    }
   ],
   "source": [
    "target = tf.broadcast_to(target, [3, 2])\n",
    "print(target)"
   ]
  },
  {
   "cell_type": "markdown",
   "metadata": {},
   "source": [
    "### top_k accuracy"
   ]
  },
  {
   "cell_type": "code",
   "execution_count": 22,
   "metadata": {},
   "outputs": [],
   "source": [
    "# output: [b, N]\n",
    "# target: [b]\n",
    "# topk 可以 = (1, 2, 3, 4)\n",
    "\n",
    "def accuracy(output, target, topk=(1,)):\n",
    "    maxk = max(topk)\n",
    "    batch_size = target.shape[0]\n",
    "    \n",
    "    pred = tf.math.top_k(output, maxk).indices\n",
    "    pred = tf.transpose(pred, perm=[1, 0])\n",
    "    target = tf.broadcast_to(target, pred.shape)\n",
    "    correct = tf.equal(pred, target) #[k, b]\n",
    "    \n",
    "    res = []\n",
    "    for k in topk:\n",
    "        correct_k = tf.cast(tf.reshape(correct[:k], [-1]), dtype=tf.float32)\n",
    "        correct_k = tf.reduce_sum(correct_k)\n",
    "        acc = float(correct_k / batch_size)\n",
    "        res.append(acc)\n",
    "        \n",
    "    return res"
   ]
  },
  {
   "cell_type": "code",
   "execution_count": 23,
   "metadata": {},
   "outputs": [
    {
     "name": "stdout",
     "output_type": "stream",
     "text": [
      "tf.Tensor(\n",
      "[[0.14488146 0.35272798 0.05987125 0.03508235 0.13643508 0.27100182]\n",
      " [0.08884969 0.70085883 0.04169834 0.05950441 0.05835514 0.05073353]\n",
      " [0.2539744  0.04211951 0.1267572  0.37921786 0.12608977 0.07184128]\n",
      " [0.06740627 0.1798951  0.06365225 0.33921757 0.17938638 0.1704424 ]\n",
      " [0.12834257 0.35820302 0.25013307 0.06334601 0.14050967 0.05946562]\n",
      " [0.13210104 0.09114087 0.5387434  0.06701592 0.12619887 0.04479991]\n",
      " [0.09384732 0.28596744 0.05907239 0.0886106  0.23536466 0.23713756]\n",
      " [0.07911208 0.04076858 0.22449061 0.35710415 0.05467016 0.2438544 ]\n",
      " [0.1933382  0.11192916 0.1733939  0.35843685 0.0854121  0.07748982]\n",
      " [0.18537845 0.17918792 0.10406095 0.34616226 0.02170556 0.16350493]], shape=(10, 6), dtype=float32)\n"
     ]
    }
   ],
   "source": [
    "output = tf.random.normal([10, 6])\n",
    "output = tf.math.softmax(output, axis=1)\n",
    "print(output)"
   ]
  },
  {
   "cell_type": "code",
   "execution_count": 24,
   "metadata": {},
   "outputs": [
    {
     "name": "stdout",
     "output_type": "stream",
     "text": [
      "tf.Tensor([1 5 0 5 0 5 1 5 1 1], shape=(10,), dtype=int32)\n"
     ]
    }
   ],
   "source": [
    "target = tf.random.uniform([10], maxval=6, dtype=tf.int32)\n",
    "print(target)"
   ]
  },
  {
   "cell_type": "code",
   "execution_count": 27,
   "metadata": {},
   "outputs": [
    {
     "name": "stdout",
     "output_type": "stream",
     "text": [
      "prob:\n",
      " [[0.14488146 0.35272798 0.05987125 0.03508235 0.13643508 0.27100182]\n",
      " [0.08884969 0.70085883 0.04169834 0.05950441 0.05835514 0.05073353]\n",
      " [0.2539744  0.04211951 0.1267572  0.37921786 0.12608977 0.07184128]\n",
      " [0.06740627 0.1798951  0.06365225 0.33921757 0.17938638 0.1704424 ]\n",
      " [0.12834257 0.35820302 0.25013307 0.06334601 0.14050967 0.05946562]\n",
      " [0.13210104 0.09114087 0.5387434  0.06701592 0.12619887 0.04479991]\n",
      " [0.09384732 0.28596744 0.05907239 0.0886106  0.23536466 0.23713756]\n",
      " [0.07911208 0.04076858 0.22449061 0.35710415 0.05467016 0.2438544 ]\n",
      " [0.1933382  0.11192916 0.1733939  0.35843685 0.0854121  0.07748982]\n",
      " [0.18537845 0.17918792 0.10406095 0.34616226 0.02170556 0.16350493]]\n"
     ]
    }
   ],
   "source": [
    "print('prob:\\n', output.numpy())"
   ]
  },
  {
   "cell_type": "code",
   "execution_count": 29,
   "metadata": {},
   "outputs": [
    {
     "name": "stdout",
     "output_type": "stream",
     "text": [
      "tf.Tensor([1 1 3 3 1 2 1 3 3 3], shape=(10,), dtype=int64)\n"
     ]
    }
   ],
   "source": [
    "pred = tf.argmax(output, axis=1)\n",
    "print(pred)"
   ]
  },
  {
   "cell_type": "code",
   "execution_count": 30,
   "metadata": {},
   "outputs": [
    {
     "name": "stdout",
     "output_type": "stream",
     "text": [
      "pred:\n",
      " [1 1 3 3 1 2 1 3 3 3]\n"
     ]
    }
   ],
   "source": [
    "print('pred:\\n', pred.numpy())"
   ]
  },
  {
   "cell_type": "code",
   "execution_count": 31,
   "metadata": {},
   "outputs": [
    {
     "name": "stdout",
     "output_type": "stream",
     "text": [
      "lable:\n",
      " [1 5 0 5 0 5 1 5 1 1]\n"
     ]
    }
   ],
   "source": [
    "print('lable:\\n', target.numpy())"
   ]
  },
  {
   "cell_type": "code",
   "execution_count": 34,
   "metadata": {},
   "outputs": [
    {
     "name": "stdout",
     "output_type": "stream",
     "text": [
      "top 1-6 acc:\n",
      " [0.20000000298023224, 0.4000000059604645, 0.5, 0.800000011920929, 0.8999999761581421, 1.0]\n"
     ]
    }
   ],
   "source": [
    "acc = accuracy(output, target, topk=(1, 2, 3, 4, 5, 6))\n",
    "print('top 1-6 acc:\\n', acc)"
   ]
  },
  {
   "cell_type": "code",
   "execution_count": null,
   "metadata": {},
   "outputs": [],
   "source": []
  }
 ],
 "metadata": {
  "kernelspec": {
   "display_name": "Python 3",
   "language": "python",
   "name": "python3"
  },
  "language_info": {
   "codemirror_mode": {
    "name": "ipython",
    "version": 3
   },
   "file_extension": ".py",
   "mimetype": "text/x-python",
   "name": "python",
   "nbconvert_exporter": "python",
   "pygments_lexer": "ipython3",
   "version": "3.7.3"
  }
 },
 "nbformat": 4,
 "nbformat_minor": 2
}
